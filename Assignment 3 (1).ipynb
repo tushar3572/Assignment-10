{
 "cells": [
  {
   "cell_type": "code",
   "execution_count": null,
   "id": "2ae2dc1e-ba29-4644-92ae-d58e5a2f7daf",
   "metadata": {},
   "outputs": [],
   "source": [
    "    #Answer: 1\n",
    "    \n",
    "    It is a technique where a process spawns multiple threads simultaneously. \n",
    "    It is the technique where multiple processes run across multiple processors/processor cores simultaneously.\n",
    "    \n",
    "    Use of multithreading:\n",
    "        \n",
    "    Multithreading in Python streamlines the efficient utilization of resources as the threads share the same memory and data space.\n",
    "    It also allows the concurrent appearance of multiple tasks and reduces the response time. \n",
    "    \n",
    "    Threading Modules used to handle threads in python."
   ]
  },
  {
   "cell_type": "code",
   "execution_count": null,
   "id": "c1e19132-4c8f-4f48-8937-f84e22ccd1eb",
   "metadata": {},
   "outputs": [],
   "source": [
    "    #Answer: 2\n",
    "    \n",
    "Threading module is used for creating, controlling and managing threads in python.\n",
    "        \n",
    "The activeCount() function returns the number of currently active Thread objects in the current thread's ThreadGroup.\n",
    "It helps in determining the total number of threads currently running in a Python program.\n",
    "\n",
    "The currentThread() function returns a reference to the currently executing Thread object. \n",
    "It allows you to obtain information or perform operations on the thread from which it is called.\n",
    "\n",
    "The enumerate() function returns a list of all currently active Thread objects. \n",
    "It allows you to obtain a list of all threads currently running in a Python program.\n",
    "        "
   ]
  },
  {
   "cell_type": "code",
   "execution_count": null,
   "id": "8439b8e5-49cb-4e08-bcb1-06c4d6c27924",
   "metadata": {},
   "outputs": [],
   "source": [
    "    #Answer: 3\n",
    "    \n",
    "The run() method is defined in the Thread class and represents the code that will be executed in a separate thread.\n",
    "It should be overridden in a subclass to define the specific behavior of the thread. \n",
    "The run() method contains the actual logic that will run in the thread when it is started.   \n",
    "\n",
    "The start() method is used to start a thread by allocating necessary resources,\n",
    "setting up the thread's environment,and then calling the run() method.\n",
    "It starts the execution of the thread asynchronously, allowing it to run concurrently with other threads in the program.\n",
    "\n",
    "The join() method is used to synchronize the execution of multiple threads.\n",
    "It blocks the calling thread until the thread it is called on completes its execution.\n",
    "It allows you to wait for a thread to finish before proceeding with further code execution.\n",
    "\n",
    "The isAlive() method is used to check if a thread is currently executing or still active. \n",
    "It returns True if the thread is currently running or has not yet finished, and False otherwise."
   ]
  },
  {
   "cell_type": "code",
   "execution_count": null,
   "id": "c70a8f30-fc4f-406d-901d-49c124fa01c5",
   "metadata": {},
   "outputs": [],
   "source": [
    "    #Answer: 4\n",
    "    \n",
    "import threading\n",
    "\n",
    "# Function to calculate and print squares\n",
    "def calculate_squares():\n",
    "    numbers = [1, 2, 3, 4, 5]\n",
    "    squares = [num**2 for num in numbers]\n",
    "    print(\"Squares:\", squares)\n",
    "\n",
    "# Function to calculate and print cubes\n",
    "def calculate_cubes():\n",
    "    numbers = [1, 2, 3, 4, 5]\n",
    "    cubes = [num**3 for num in numbers]\n",
    "    print(\"Cubes:\", cubes)\n",
    "\n",
    "# Main code\n",
    "thread1 = threading.Thread(target=calculate_squares)\n",
    "thread2 = threading.Thread(target=calculate_cubes)\n",
    "\n",
    "thread1.start()\n",
    "thread2.start()\n",
    "\n",
    "thread1.join()\n",
    "thread2.join()\n",
    "\n",
    "print(\"Main thread finished\")\n",
    "    "
   ]
  },
  {
   "cell_type": "code",
   "execution_count": null,
   "id": "cf8ff2ed-e725-4695-b93f-95534acf2f14",
   "metadata": {},
   "outputs": [],
   "source": [
    "    #Answer: 5\n",
    "    \n",
    "Advantage this model provides more concurrency than the many-to-one model. \n",
    "It also allows another thread to run when a thread makes a blocking system call. \n",
    "It supports multiple threads to execute in parallel on microprocessors.\n",
    "\n",
    "\n",
    "Disadvantage of this model is that creating user thread requires the corresponding Kernel thread.    "
   ]
  },
  {
   "cell_type": "code",
   "execution_count": null,
   "id": "970ec7da-1ffb-4fbe-82dc-d2c05bfe8329",
   "metadata": {},
   "outputs": [],
   "source": [
    "    #Answer: 6\n",
    "    \n",
    "A race condition occurs when two threads access a shared variable at the same time.\n",
    "The first thread reads the variable, and the second thread reads the same value from the variable.    \n",
    "\n",
    "A deadlock is a concurrency failure mode where a thread or threads wait for a condition that never occurs. \n",
    "The result is that the deadlock threads are unable to progress and the program is stuck or frozen and must be terminated forcefully."
   ]
  }
 ],
 "metadata": {
  "kernelspec": {
   "display_name": "Python 3 (ipykernel)",
   "language": "python",
   "name": "python3"
  },
  "language_info": {
   "codemirror_mode": {
    "name": "ipython",
    "version": 3
   },
   "file_extension": ".py",
   "mimetype": "text/x-python",
   "name": "python",
   "nbconvert_exporter": "python",
   "pygments_lexer": "ipython3",
   "version": "3.10.8"
  }
 },
 "nbformat": 4,
 "nbformat_minor": 5
}
